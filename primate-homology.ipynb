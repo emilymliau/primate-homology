{
 "cells": [
  {
   "cell_type": "markdown",
   "id": "48b05e68",
   "metadata": {},
   "source": [
    "### Functional Classification and Sequence Homology Across Primate Genomes\n",
    "**Emily M. Liau**"
   ]
  },
  {
   "cell_type": "markdown",
   "id": "53451e6d",
   "metadata": {},
   "source": [
    "#### Introduction"
   ]
  },
  {
   "cell_type": "markdown",
   "id": "0689b86e",
   "metadata": {},
   "source": [
    "The divergence of human (Homo sapiens) and chimpanzee (Pan troglodytes) ancestors dates back to at least 6.5-7.5 million years ago. Due to their homology, humans and chimpanzees share a large number of conserved sequences. Although recent technologies have improved, it remains difficult to quantify the exact differences between human and chimpanzee genomes based on protein-coding sequences alone. Therefore, comparing the major structural and regulatory genetic alterations that have shaped the biological function of specific DNA sequences could provide insight into human and chimpanzee speciation over time.\n",
    "\n",
    "In this analysis, our objective is to classify DNA sequences across primate genomes based on their apparent biological function. More specifically, we will analyze DNA sequences from humans and chimpanzees, and attempt to classify these sequences into seven main gene families: \n",
    "- **G-protein Coupled Receptors:** membrane proteins used by eukaryotic cells to convert extracellular signals into intracellular responses, such as responses to hormones, neurotransmitters, and external signals\n",
    "- **Tyrosine Kinase:** enzymes that catalyze the phosphorylation of specific tyrosine residues in target proteins\n",
    "- **Tyrosine Phosphatase:** enzymes that utilize ATP to regulate signal transduction pathways by catalyzing the dephosphorylation of tyrosine-phosphorylated proteins to reverse the phosphorylation of tyrosine residues\n",
    "- **Synthetase:** enzymes that catalyze the linking of two molecules using the energy derived from the separation of a pyrophosphate group from a triphosphate\n",
    "- **Synthase:** enzymes that catalyze the synthesis of new compounds in the body, regardless of energy source\n",
    "- **Ion Channel:** integral membrane proteins in mammaliam cells that form pores to allow the transport of specific ions by passive diffusion\n",
    "- **Transcription Factor:** proteins involved in the process of transcribing DNA into RNA\n",
    "\n",
    "The original dataset contains sequences from both human and chimpanzee genomes, as well as class values that correspond to the functions of the sequences. DNA sequence data is usually stored in FASTA file format, which is a text-based format used to represent nucleotide sequences or amino acid sequences. In FASTA files, nucleotides or amino acids are represented using single-letter codes. Therefore, sequencing data is text-based data, and it is best to use algorithms such as Naive Bayes, in order to perform classification on the DNA sequences.\n",
    "\n",
    "In this analysis, we apply a Multinomial Naive Bayes Classifier to predict the gene family that characterizes each sequence across both primate species. Comparing the resulting classifications across both primate species of interest will provide an additional perspective into the impact of evolution on sequence homology between humans and chimpanzees over time."
   ]
  },
  {
   "cell_type": "markdown",
   "id": "a75d8e58",
   "metadata": {},
   "source": [
    "#### Environment Set-Up"
   ]
  },
  {
   "cell_type": "code",
   "execution_count": 1,
   "id": "f81c9e7d",
   "metadata": {},
   "outputs": [],
   "source": [
    "# import requisite packages\n",
    "import numpy as np\n",
    "import pandas as pd\n",
    "import matplotlib.pyplot as plt\n",
    "%matplotlib inline\n",
    "\n",
    "# function to output bold text\n",
    "from IPython.display import Markdown, display\n",
    "def printmd(string):\n",
    "    display(Markdown(string))"
   ]
  },
  {
   "cell_type": "markdown",
   "id": "91262cf4",
   "metadata": {},
   "source": [
    "#### Gene Classes of Interest\n",
    "\n",
    "0: G-protein Coupled Receptors  \n",
    "1: Tyrosine Kinase  \n",
    "2: Tyrosine Phosphatase  \n",
    "3: Synthetase  \n",
    "4: Synthase  \n",
    "5: Ion Channel  \n",
    "6: Transcription Factor "
   ]
  },
  {
   "cell_type": "markdown",
   "id": "f50596d1",
   "metadata": {},
   "source": [
    "#### DNA Sequences & Gene Classes in Humans"
   ]
  },
  {
   "cell_type": "code",
   "execution_count": 2,
   "id": "89c3d32e",
   "metadata": {},
   "outputs": [
    {
     "data": {
      "text/markdown": [
       "**DNA Sequences & Gene Classes in Humans**\n"
      ],
      "text/plain": [
       "<IPython.core.display.Markdown object>"
      ]
     },
     "metadata": {},
     "output_type": "display_data"
    },
    {
     "name": "stdout",
     "output_type": "stream",
     "text": [
      "                                               sequence  class\n",
      "0     ATGCCCCAACTAAATACTACCGTATGGCCCACCATAATTACCCCCA...      4\n",
      "1     ATGAACGAAAATCTGTTCGCTTCATTCATTGCCCCCACAATCCTAG...      4\n",
      "2     ATGTGTGGCATTTGGGCGCTGTTTGGCAGTGATGATTGCCTTTCTG...      3\n",
      "3     ATGTGTGGCATTTGGGCGCTGTTTGGCAGTGATGATTGCCTTTCTG...      3\n",
      "4     ATGCAACAGCATTTTGAATTTGAATACCAGACCAAAGTGGATGGTG...      3\n",
      "...                                                 ...    ...\n",
      "4375  ATGGAAGATTTGGAGGAAACATTATTTGAAGAATTTGAAAACTATT...      0\n",
      "4376  ATGCAGTCCTTTCGGGAGCAAAGCAGTTACCACGGAAACCAGCAAA...      6\n",
      "4377  ATGCAGTCCTTTCGGGAGCAAAGCAGTTACCACGGAAACCAGCAAA...      6\n",
      "4378  ATGGGGCACCTGGTTTGCTGTCTGTGTGGCAAGTGGGCCAGTTACC...      6\n",
      "4379  ATGCAGTCCTTTCGGGAGCAAAGCAGTTACCACGGAAACCAGCAAA...      6\n",
      "\n",
      "[4380 rows x 2 columns]\n",
      "\n",
      "\n"
     ]
    }
   ],
   "source": [
    "# import human DNA sequences and corresponding class values\n",
    "humanDF = pd.read_table('human.txt')\n",
    "printmd(\"**DNA Sequences & Gene Classes in Humans**\\n\")\n",
    "print(humanDF)\n",
    "print('\\n')"
   ]
  },
  {
   "cell_type": "markdown",
   "id": "aade28c1",
   "metadata": {},
   "source": [
    "#### Visualizing Sequence Classification Counts in Humans"
   ]
  },
  {
   "cell_type": "code",
   "execution_count": 3,
   "id": "4d0ef364",
   "metadata": {},
   "outputs": [
    {
     "data": {
      "image/png": "[encoded data removed]",
      "text/plain": [
       "<Figure size 432x288 with 1 Axes>"
      ]
     },
     "metadata": {
      "needs_background": "light"
     },
     "output_type": "display_data"
    }
   ],
   "source": [
    "x = list(range(1, len(humanDF) + 1))\n",
    "y = humanDF['class']\n",
    "colors = ['black'] * len(y)\n",
    "for i in range(len(y)):\n",
    "    if (y[i] == 0):\n",
    "        colors[i] = 'red'\n",
    "    elif (y[i] == 1):\n",
    "        colors[i] = 'orange'\n",
    "    elif (y[i] == 2):\n",
    "        colors[i] = 'yellow'\n",
    "    elif (y[i] == 3):\n",
    "        colors[i] = 'green'\n",
    "    elif (y[i] == 4):\n",
    "        colors[i] = 'blue'\n",
    "    elif (y[i] == 5):\n",
    "        colors[i] = 'indigo'\n",
    "    elif (y[i] == 6):\n",
    "        colors[i] = 'violet'        \n",
    "plt.scatter(x, y, c = colors)\n",
    "plt.xlabel('Sequence Index')\n",
    "plt.ylabel('Gene Class')\n",
    "plt.title('Human DNA Sequence Counts')\n",
    "plt.show()"
   ]
  },
  {
   "cell_type": "markdown",
   "id": "bd04fbad",
   "metadata": {},
   "source": [
    "Based on the visualization above, we can observe the frequencies of sequence classification counts in humans across the 7 gene classes of interest. As we can interpret from the visualization, humans have less DNA sequences classified into ion channels as opposed to other gene classes, and that transcription factors have the greatest frequency across all gene classes."
   ]
  },
  {
   "cell_type": "markdown",
   "id": "e9428455",
   "metadata": {},
   "source": [
    "#### Sequence Classification in Humans"
   ]
  },
  {
   "cell_type": "code",
   "execution_count": 4,
   "id": "271ff0a3",
   "metadata": {},
   "outputs": [
    {
     "data": {
      "text/markdown": [
       "**Observed Counts of Gene Families in Humans**\n"
      ],
      "text/plain": [
       "<IPython.core.display.Markdown object>"
      ]
     },
     "metadata": {},
     "output_type": "display_data"
    },
    {
     "name": "stdout",
     "output_type": "stream",
     "text": [
      "                       gene family  count\n",
      "class                                    \n",
      "0      G-protein Coupled Receptors    531\n",
      "1                  Tyrosine Kinase    534\n",
      "2             Tyrosine Phosphatase    349\n",
      "3                       Synthetase    672\n",
      "4                         Synthase    711\n",
      "5                      Ion Channel    240\n",
      "6             Transcription Factor   1343\n"
     ]
    }
   ],
   "source": [
    "humanFrequencies = humanDF.groupby('class').count()\n",
    "gene_family = ['G-protein Coupled Receptors', 'Tyrosine Kinase', 'Tyrosine Phosphatase', 'Synthetase', 'Synthase', 'Ion Channel', 'Transcription Factor']\n",
    "humanFrequencies.insert(0, \"gene family\", gene_family)\n",
    "humanFrequencies = humanFrequencies.rename(columns = {'sequence':'count'})\n",
    "printmd('**Observed Counts of Gene Families in Humans**\\n')\n",
    "with pd.option_context('display.max_colwidth', None):\n",
    "    print(humanFrequencies)"
   ]
  },
  {
   "cell_type": "code",
   "execution_count": 5,
   "id": "5fbd9db9",
   "metadata": {},
   "outputs": [
    {
     "data": {
      "image/png": "[encoded data removed]",
      "text/plain": [
       "<Figure size 432x288 with 1 Axes>"
      ]
     },
     "metadata": {
      "needs_background": "light"
     },
     "output_type": "display_data"
    }
   ],
   "source": [
    "humanFrequencies.plot.bar(x = 'gene family', logy = False)\n",
    "plt.xticks(rotation = 80)\n",
    "plt.xlabel('Gene Family')\n",
    "plt.ylabel('Count')\n",
    "plt.title('Human Sequence Classification Across Gene Families')\n",
    "plt.show()"
   ]
  },
  {
   "cell_type": "markdown",
   "id": "df75abb8",
   "metadata": {},
   "source": [
    "Overall, the results in the human dataframes are consistent with the prevalence of certain biological pathways present in humans. For example, we can conclude based on the dataframe above, that the proportion of human DNA sequences that code for transcription factors outweighs the proportions present in other categories of gene families. We should expect that transcription factors are more prevalent compared to other categories of gene families, since they are the primary components responsible for regulating gene expression and producing functional protein products in eukaryotes. In addition, gene families such as G-protein coupled receptors (GPCRs) and synthetases are required in a fairly broad range of human biological pathways compared with less prevalent gene families such as tyrosine phosphatases. For example, tyrosine phosphatases are primarily utilized in physiological pathways, whereas GPCRs are used in a wider variety of processes in the human body, including those related to vision, olfaction, and the central nervous system. Therefore, the counts presented in the dataframe parallel the true frequencies that would be observed in biological pathways in humans."
   ]
  },
  {
   "cell_type": "markdown",
   "id": "8c271673",
   "metadata": {},
   "source": [
    "#### DNA Sequences & Gene Classes in Chimpanzees"
   ]
  },
  {
   "cell_type": "code",
   "execution_count": 6,
   "id": "b682504b",
   "metadata": {},
   "outputs": [
    {
     "data": {
      "text/markdown": [
       "**DNA Sequences & Gene Classes in Chimpanzees**\n"
      ],
      "text/plain": [
       "<IPython.core.display.Markdown object>"
      ]
     },
     "metadata": {},
     "output_type": "display_data"
    },
    {
     "name": "stdout",
     "output_type": "stream",
     "text": [
      "                                               sequence  class\n",
      "0     ATGCCCCAACTAAATACCGCCGTATGACCCACCATAATTACCCCCA...      4\n",
      "1     ATGAACGAAAATCTATTCGCTTCATTCGCTGCCCCCACAATCCTAG...      4\n",
      "2     ATGGCCTCGCGCTGGTGGCGGTGGCGACGCGGCTGCTCCTGGAGGC...      4\n",
      "3     ATGGCCTCGCGCTGGTGGCGGTGGCGACGCGGCTGCTCCTGGAGGC...      4\n",
      "4     ATGGGCAGCGCCAGCCCGGGTCTGAGCAGCGTGTCCCCCAGCCACC...      6\n",
      "...                                                 ...    ...\n",
      "1677  ATGCTGAGCGGAGCGGCTGGGGCTGCGCGGCGTGGCGGAGCAGCGC...      5\n",
      "1678  ATGCTGAGCGGAGCGGCTGGGGCTGCGCGGCGTGGCGGAGCAGCGC...      5\n",
      "1679  ATGAAGCGACCCAAGGAGCCGAGCGGCTCCGACGGGGAGTCCGACG...      6\n",
      "1680  ATGACTGGAACCCCAAAGACTCAAGAAGGAGCTAAAGATCTTGAAG...      3\n",
      "1681  ATGTTGCCCAGCTGTGGCAAGATCTTGACTGGGTGTAAGAATATGC...      3\n",
      "\n",
      "[1682 rows x 2 columns]\n",
      "\n",
      "\n"
     ]
    }
   ],
   "source": [
    "chimpDF = pd.read_table('chimp.txt')\n",
    "printmd(\"**DNA Sequences & Gene Classes in Chimpanzees**\\n\")\n",
    "print(chimpDF)\n",
    "print('\\n')"
   ]
  },
  {
   "cell_type": "markdown",
   "id": "b8436981",
   "metadata": {},
   "source": [
    "#### Visualizing Sequence Classification Counts in Chimpanzees"
   ]
  },
  {
   "cell_type": "code",
   "execution_count": 7,
   "id": "9ce88bd5",
   "metadata": {},
   "outputs": [
    {
     "data": {
      "image/png": "[encoded data removed]",
      "text/plain": [
       "<Figure size 432x288 with 1 Axes>"
      ]
     },
     "metadata": {
      "needs_background": "light"
     },
     "output_type": "display_data"
    }
   ],
   "source": [
    "x = list(range(1, len(chimpDF) + 1))\n",
    "y = chimpDF['class']\n",
    "colors = ['black'] * len(y)\n",
    "for i in range(len(y)):\n",
    "    if (y[i] == 0):\n",
    "        colors[i] = 'red'\n",
    "    elif (y[i] == 1):\n",
    "        colors[i] = 'orange'\n",
    "    elif (y[i] == 2):\n",
    "        colors[i] = 'yellow'\n",
    "    elif (y[i] == 3):\n",
    "        colors[i] = 'green'\n",
    "    elif (y[i] == 4):\n",
    "        colors[i] = 'blue'\n",
    "    elif (y[i] == 5):\n",
    "        colors[i] = 'indigo'\n",
    "    elif (y[i] == 6):\n",
    "        colors[i] = 'violet'        \n",
    "plt.scatter(x, y, c = colors)\n",
    "plt.xlabel('Sequence Index')\n",
    "plt.ylabel('Gene Class')\n",
    "plt.title('Chimpanzee DNA Sequence Counts')\n",
    "plt.show()"
   ]
  },
  {
   "cell_type": "markdown",
   "id": "4faa6a9d",
   "metadata": {},
   "source": [
    "Based on the visualization above, we can understand the frequencies of sequence classification counts in chimpanzees. As we can interpret from the visualization, chimpanzees have less sequences classified into both tyrosine phosphatases and ion channels as opposed to other gene classes. If we compare this visualization to that of humans, we can observe a difference in the distribution and frequency of classification counts across both species."
   ]
  },
  {
   "cell_type": "markdown",
   "id": "30800da3",
   "metadata": {},
   "source": [
    "#### Sequence Classification in Chimpanzees"
   ]
  },
  {
   "cell_type": "code",
   "execution_count": 8,
   "id": "4773aaa7",
   "metadata": {},
   "outputs": [
    {
     "data": {
      "text/markdown": [
       "**Observed Counts of Gene Families in Chimpanzees**\n"
      ],
      "text/plain": [
       "<IPython.core.display.Markdown object>"
      ]
     },
     "metadata": {},
     "output_type": "display_data"
    },
    {
     "name": "stdout",
     "output_type": "stream",
     "text": [
      "                       gene family  count\n",
      "class                                    \n",
      "0      G-protein Coupled Receptors    234\n",
      "1                  Tyrosine Kinase    185\n",
      "2             Tyrosine Phosphatase    144\n",
      "3                       Synthetase    228\n",
      "4                         Synthase    261\n",
      "5                      Ion Channel    109\n",
      "6             Transcription Factor    521\n"
     ]
    }
   ],
   "source": [
    "chimpFrequencies = chimpDF.groupby('class').count()\n",
    "gene_family = ['G-protein Coupled Receptors', 'Tyrosine Kinase', 'Tyrosine Phosphatase', 'Synthetase', 'Synthase', 'Ion Channel', 'Transcription Factor']\n",
    "chimpFrequencies.insert(0, \"gene family\", gene_family)\n",
    "chimpFrequencies = chimpFrequencies.rename(columns = {'sequence':'count'})\n",
    "printmd('**Observed Counts of Gene Families in Chimpanzees**\\n')\n",
    "with pd.option_context('display.max_colwidth', None):\n",
    "    print(chimpFrequencies)"
   ]
  },
  {
   "cell_type": "code",
   "execution_count": 9,
   "id": "3c825e3e",
   "metadata": {},
   "outputs": [
    {
     "data": {
      "image/png": "[encoded data removed]",
      "text/plain": [
       "<Figure size 432x288 with 1 Axes>"
      ]
     },
     "metadata": {
      "needs_background": "light"
     },
     "output_type": "display_data"
    }
   ],
   "source": [
    "chimpFrequencies.plot.bar(x = 'gene family', logy = False, color = 'coral')\n",
    "plt.xticks(rotation = 80)\n",
    "plt.xlabel('Gene Family')\n",
    "plt.ylabel('Count')\n",
    "plt.title('Chimpanzee Sequence Classification Across Gene Families')\n",
    "plt.show()"
   ]
  },
  {
   "cell_type": "markdown",
   "id": "81ce0346",
   "metadata": {},
   "source": [
    "Similar to the human data presented above, the results in the chimpanzee dataframes are consistent with the prevalence of certain biological pathways present in chimpanzees. Akin to the proportions of gene families observed in humans, ion channels appear to have the lowest frequency and transcription factors appear to have the highest frequency across all gene families in chimpanzees. We can conclude that the results presented in the chimpanzee dataframe parallel the relative proportions observed in humans, likely due to the prevalence of conserved sequences in both species across evolutionary time. In addition, transcription factors serve as a potential source of variability in gene expression between humans and chimpanzees. Since transcription factors are evolutionarily stable and structurally well-conserved, specific transription factors could be responsible for driving major changes between both primate species of interest, which serves as an explanation as to why transcription factors are the most prevalent gene family in both datasets. Overall, we can conclude that the counts presented in the dataframe parallel the true frequencies that would be observed in biological pathways in chimpanzees."
   ]
  },
  {
   "cell_type": "markdown",
   "id": "fa6df526",
   "metadata": {},
   "source": [
    "#### Comparing Proportions of Gene Families Across Humans and Chimpanzees"
   ]
  },
  {
   "cell_type": "code",
   "execution_count": 10,
   "id": "7f545026",
   "metadata": {},
   "outputs": [
    {
     "data": {
      "text/markdown": [
       "**Proportions of Gene Families in Humans & Chimpanzees**\n"
      ],
      "text/plain": [
       "<IPython.core.display.Markdown object>"
      ]
     },
     "metadata": {},
     "output_type": "display_data"
    },
    {
     "name": "stdout",
     "output_type": "stream",
     "text": [
      "                   gene family     human     chimp\n",
      "0  G-protein Coupled Receptors  0.121233  0.139120\n",
      "1              Tyrosine Kinase  0.121918  0.109988\n",
      "2         Tyrosine Phosphatase  0.079680  0.085612\n",
      "3                   Synthetase  0.153425  0.135553\n",
      "4                     Synthase  0.162329  0.155172\n",
      "5                  Ion Channel  0.054795  0.064804\n",
      "6         Transcription Factor  0.306621  0.309750\n"
     ]
    }
   ],
   "source": [
    "# merge human and chimpanzee dataframes\n",
    "combined = pd.merge(humanFrequencies, chimpFrequencies, on = 'gene family')\n",
    "combined = combined.rename(columns = {'count_x':'human', 'count_y':'chimp'})\n",
    "\n",
    "# convert gene family counts into relative proportions\n",
    "for index, row in combined.iterrows():\n",
    "    combined['human'] = combined['human'] / combined['human'].sum()\n",
    "    combined['chimp'] = combined['chimp'] / combined['chimp'].sum()\n",
    "printmd('**Proportions of Gene Families in Humans & Chimpanzees**\\n')\n",
    "print(combined)"
   ]
  },
  {
   "cell_type": "code",
   "execution_count": 11,
   "id": "c81e8c29",
   "metadata": {},
   "outputs": [
    {
     "data": {
      "image/png": "[encoded data removed]",
      "text/plain": [
       "<Figure size 432x288 with 1 Axes>"
      ]
     },
     "metadata": {
      "needs_background": "light"
     },
     "output_type": "display_data"
    }
   ],
   "source": [
    "# create grouped bar chart to visualize relative proportions of gene family classifications\n",
    "combined.plot.bar(x = 'gene family', logy = False)\n",
    "plt.xticks(rotation = 80)\n",
    "plt.legend(bbox_to_anchor = (1.05, 1), loc = 'upper left')\n",
    "plt.xlabel('Gene Family')\n",
    "plt.ylabel('Proportion')\n",
    "plt.title('Sequence Classification Across Gene Families')\n",
    "plt.show()"
   ]
  },
  {
   "cell_type": "markdown",
   "id": "d61521d6",
   "metadata": {},
   "source": [
    "As presented in the merged dataframe and the grouped bar chart visualization above, the relative proportions of sequences that correspond to each gene family are fairly similar across the human and chimpanzee genomes, due to sequence conservation over evolutionary history. We should expect such results, since humans and chimpanzees share 98.8% of their DNA, as a product of their descent from a relatively recent common ancestor."
   ]
  },
  {
   "cell_type": "markdown",
   "id": "6c3d438d",
   "metadata": {},
   "source": [
    "#### Curating the k-mer Library"
   ]
  },
  {
   "cell_type": "markdown",
   "id": "388948bc",
   "metadata": {},
   "source": [
    "Since DNA sequences provide instructions to encode proteins and other essential molecules within organisms, we use k-mer counting to account for all potential open reading frames (ORFs) within each sequence. In this analysis, we use k-mers of size 6, since this size increases the chance that all possible k-mers will overlap within sequence assembly, while also minimizing information loss."
   ]
  },
  {
   "cell_type": "code",
   "execution_count": 12,
   "id": "eeed8ef9",
   "metadata": {},
   "outputs": [],
   "source": [
    "# define kmers function to split DNA sequences into hexamers\n",
    "def kmers(sequence, size = 6):\n",
    "    return [sequence[x: x + size].lower() for x in range(len(sequence) - size + 1)]"
   ]
  },
  {
   "cell_type": "code",
   "execution_count": 13,
   "id": "9126407b",
   "metadata": {},
   "outputs": [
    {
     "data": {
      "text/markdown": [
       "**Hexamers & Gene Classes in Humans**"
      ],
      "text/plain": [
       "<IPython.core.display.Markdown object>"
      ]
     },
     "metadata": {},
     "output_type": "display_data"
    },
    {
     "name": "stdout",
     "output_type": "stream",
     "text": [
      "      class                                           hexamers\n",
      "0         4  [atgccc, tgcccc, gcccca, ccccaa, cccaac, ccaac...\n",
      "1         4  [atgaac, tgaacg, gaacga, aacgaa, acgaaa, cgaaa...\n",
      "2         3  [atgtgt, tgtgtg, gtgtgg, tgtggc, gtggca, tggca...\n",
      "3         3  [atgtgt, tgtgtg, gtgtgg, tgtggc, gtggca, tggca...\n",
      "4         3  [atgcaa, tgcaac, gcaaca, caacag, aacagc, acagc...\n",
      "...     ...                                                ...\n",
      "4375      0  [atggaa, tggaag, ggaaga, gaagat, aagatt, agatt...\n",
      "4376      6  [atgcag, tgcagt, gcagtc, cagtcc, agtcct, gtcct...\n",
      "4377      6  [atgcag, tgcagt, gcagtc, cagtcc, agtcct, gtcct...\n",
      "4378      6  [atgggg, tggggc, ggggca, gggcac, ggcacc, gcacc...\n",
      "4379      6  [atgcag, tgcagt, gcagtc, cagtcc, agtcct, gtcct...\n",
      "\n",
      "[4380 rows x 2 columns]\n"
     ]
    }
   ],
   "source": [
    "# split human DNA sequences into hexamers\n",
    "humanDF['hexamers'] = humanDF.apply(lambda x: kmers(x['sequence']), axis = 1)\n",
    "humanDF = humanDF.drop('sequence', axis = 1)\n",
    "printmd(\"**Hexamers & Gene Classes in Humans**\")\n",
    "print(humanDF)"
   ]
  },
  {
   "cell_type": "code",
   "execution_count": 14,
   "id": "f1be2eee",
   "metadata": {},
   "outputs": [
    {
     "data": {
      "text/markdown": [
       "**Hexamers & Gene Classes in Chimpanzees**"
      ],
      "text/plain": [
       "<IPython.core.display.Markdown object>"
      ]
     },
     "metadata": {},
     "output_type": "display_data"
    },
    {
     "name": "stdout",
     "output_type": "stream",
     "text": [
      "      class                                           hexamers\n",
      "0         4  [atgccc, tgcccc, gcccca, ccccaa, cccaac, ccaac...\n",
      "1         4  [atgaac, tgaacg, gaacga, aacgaa, acgaaa, cgaaa...\n",
      "2         4  [atggcc, tggcct, ggcctc, gcctcg, cctcgc, ctcgc...\n",
      "3         4  [atggcc, tggcct, ggcctc, gcctcg, cctcgc, ctcgc...\n",
      "4         6  [atgggc, tgggca, gggcag, ggcagc, gcagcg, cagcg...\n",
      "...     ...                                                ...\n",
      "1677      5  [atgctg, tgctga, gctgag, ctgagc, tgagcg, gagcg...\n",
      "1678      5  [atgctg, tgctga, gctgag, ctgagc, tgagcg, gagcg...\n",
      "1679      6  [atgaag, tgaagc, gaagcg, aagcga, agcgac, gcgac...\n",
      "1680      3  [atgact, tgactg, gactgg, actgga, ctggaa, tggaa...\n",
      "1681      3  [atgttg, tgttgc, gttgcc, ttgccc, tgccca, gccca...\n",
      "\n",
      "[1682 rows x 2 columns]\n"
     ]
    }
   ],
   "source": [
    "# split chimpanzee DNA sequences into hexamers\n",
    "chimpDF['hexamers'] = chimpDF.apply(lambda x: kmers(x['sequence']), axis = 1)\n",
    "chimpDF = chimpDF.drop('sequence', axis = 1)\n",
    "printmd(\"**Hexamers & Gene Classes in Chimpanzees**\")\n",
    "print(chimpDF)"
   ]
  },
  {
   "cell_type": "code",
   "execution_count": 15,
   "id": "82f0c55f",
   "metadata": {},
   "outputs": [
    {
     "data": {
      "text/markdown": [
       "**Human Class Labels**\n"
      ],
      "text/plain": [
       "<IPython.core.display.Markdown object>"
      ]
     },
     "metadata": {},
     "output_type": "display_data"
    },
    {
     "name": "stdout",
     "output_type": "stream",
     "text": [
      "[4 4 3 ... 6 6 6]\n"
     ]
    },
    {
     "data": {
      "text/markdown": [
       "**Human Hexamers**\n"
      ],
      "text/plain": [
       "<IPython.core.display.Markdown object>"
      ]
     },
     "metadata": {},
     "output_type": "display_data"
    },
    {
     "name": "stdout",
     "output_type": "stream",
     "text": [
      "atgccc tgcccc gcccca ccccaa cccaac ccaact caacta aactaa actaaa ctaaat taaata aaatac aatact atacta tactac actacc ctaccg taccgt accgta ccgtat cgtatg gtatgg tatggc atggcc tggccc ggccca gcccac cccacc ccacca caccat accata ccataa cataat ataatt taatta aattac attacc ttaccc tacccc accccc ccccca ccccat cccata ccatac catact atactc tactcc actcct ctcctt tcctta ccttac cttaca ttacac tacact acacta cactat actatt ctattc tattcc attcct ttcctc tcctca cctcat ctcatc tcatca catcac atcacc tcaccc caccca acccaa cccaac ccaact caacta aactaa actaaa ctaaaa taaaaa aaaaat aaaata aaatat aatatt atatta tattaa attaaa ttaaac taaaca aaacac aacaca acacaa cacaaa acaaac caaact aaacta aactac actacc ctacca taccac accacc ccacct caccta acctac cctacc ctacct tacctc acctcc cctccc ctccct tccctc ccctca cctcac ctcacc tcacca caccaa accaaa ccaaag caaagc aaagcc aagccc agccca gcccat cccata ccataa cataaa ataaaa taaaaa aaaaat aaaata aaataa aataaa ataaaa taaaaa aaaaaa aaaaat aaaatt aaatta aattat attata ttataa tataac ataaca taacaa aacaaa acaaac caaacc aaaccc aaccct accctg ccctga cctgag ctgaga tgagaa gagaac agaacc gaacca aaccaa accaaa ccaaaa caaaat aaaatg aaatga aatgaa atgaac tgaacg gaacga aacgaa acgaaa cgaaaa gaaaat aaaatc aaatct aatctg atctgt tctgtt ctgttc tgttcg gttcgc ttcgct tcgctt cgcttc gcttca cttcat ttcatt tcattc cattca attcat ttcatt tcattg cattgc attgcc ttgccc tgcccc gccccc ccccca ccccac cccaca ccacaa cacaat acaatc caatcc aatcct atccta tcctag\n"
     ]
    }
   ],
   "source": [
    "# convert human hexamers into a list of string sentences, which serves as input for CountVectorizer\n",
    "human_texts = list(humanDF['hexamers'])\n",
    "for item in range(len(human_texts)):\n",
    "    human_texts[item] = ' '.join(human_texts[item])\n",
    "    \n",
    "# store human class labels separately\n",
    "human_class_labels = humanDF.iloc[:, 0].values\n",
    "printmd('**Human Class Labels**\\n')\n",
    "print(human_class_labels)\n",
    "printmd('**Human Hexamers**\\n')\n",
    "print(human_texts[0])"
   ]
  },
  {
   "cell_type": "code",
   "execution_count": 16,
   "id": "bfadda98",
   "metadata": {},
   "outputs": [
    {
     "data": {
      "text/markdown": [
       "**Chimpanzee Class Labels**\n"
      ],
      "text/plain": [
       "<IPython.core.display.Markdown object>"
      ]
     },
     "metadata": {},
     "output_type": "display_data"
    },
    {
     "name": "stdout",
     "output_type": "stream",
     "text": [
      "[4 4 4 ... 6 3 3]\n"
     ]
    },
    {
     "data": {
      "text/markdown": [
       "**Chimpanzee Hexamers**\n"
      ],
      "text/plain": [
       "<IPython.core.display.Markdown object>"
      ]
     },
     "metadata": {},
     "output_type": "display_data"
    },
    {
     "name": "stdout",
     "output_type": "stream",
     "text": [
      "atgccc tgcccc gcccca ccccaa cccaac ccaact caacta aactaa actaaa ctaaat taaata aaatac aatacc ataccg taccgc accgcc ccgccg cgccgt gccgta ccgtat cgtatg gtatga tatgac atgacc tgaccc gaccca acccac cccacc ccacca caccat accata ccataa cataat ataatt taatta aattac attacc ttaccc tacccc accccc ccccca ccccat cccata ccatac catact atactc tactcc actcct ctcctg tcctga cctgac ctgaca tgacac gacact acacta cactat actatt ctattt tatttc atttct tttctc ttctcg tctcgt ctcgtc tcgtca cgtcac gtcacc tcaccc caccca acccaa cccaac ccaact caacta aactaa actaaa ctaaaa taaaaa aaaaat aaaata aaatat aatatt atatta tattaa attaaa ttaaat taaatt aaattc aattca attcaa ttcaaa tcaaat caaatt aaatta aattac attacc ttacca taccat accatc ccatct catcta atctac tctacc ctaccc tacccc accccc cccccc ccccct cccctc ccctca cctcac ctcacc tcacca caccaa accaaa ccaaaa caaaac aaaacc aaaccc aaccca acccat cccata ccataa cataaa ataaaa taaaaa aaaaat aaaata aaataa aataaa ataaaa taaaaa aaaaaa aaaaac aaaact aaacta aactac actaca ctacaa tacaat acaata caataa aataaa ataaac taaacc aaaccc aaccct accctg ccctga cctgag ctgaga tgagaa gagaac agaacc gaacca aaccaa accaaa ccaaaa caaaat aaaatg aaatga aatgaa atgaac tgaacg gaacga aacgaa acgaaa cgaaaa gaaaat aaaatc aaatct aatcta atctat tctatt ctattc tattcg attcgc ttcgct tcgctt cgcttc gcttca cttcat ttcatt tcattc cattcg attcgc ttcgct tcgctg cgctgc gctgcc ctgccc tgcccc gccccc ccccca ccccac cccaca ccacaa cacaat acaatc caatcc aatcct atccta tcctag\n"
     ]
    }
   ],
   "source": [
    "# convert chimpanzee hexamers into a list of string sentences, which serves as input for CountVectorizer\n",
    "chimp_texts = list(chimpDF['hexamers'])\n",
    "for item in range(len(chimp_texts)):\n",
    "    chimp_texts[item] = ' '.join(chimp_texts[item])\n",
    "    \n",
    "# store chimpanzee class labels separately\n",
    "chimp_class_labels = chimpDF.iloc[:, 0].values\n",
    "printmd('**Chimpanzee Class Labels**\\n')\n",
    "print(chimp_class_labels)\n",
    "printmd('**Chimpanzee Hexamers**\\n')\n",
    "print(chimp_texts[0])"
   ]
  },
  {
   "cell_type": "code",
   "execution_count": 17,
   "id": "662a6b77",
   "metadata": {},
   "outputs": [],
   "source": [
    "from sklearn.feature_extraction.text import CountVectorizer\n",
    "\n",
    "# create a bag-of-words model\n",
    "cv = CountVectorizer(ngram_range = (4, 4))\n",
    "\n",
    "# apply CountVectorizer with n-gram value of 4 to transform text into vector based on word frequency\n",
    "x_human = cv.fit_transform(human_texts)\n",
    "x_chimp = cv.transform(chimp_texts)"
   ]
  },
  {
   "cell_type": "markdown",
   "id": "69af3442",
   "metadata": {},
   "source": [
    "#### Classification"
   ]
  },
  {
   "cell_type": "markdown",
   "id": "81fc3a30",
   "metadata": {},
   "source": [
    "In order to classify the sequences into their respective gene families, we apply a Multinomial Naive Bayes Classifier, a method suitable for classification on datasets with discrete features. This approach predicts the tag of a certain text using the Bayes Theorem; by calculating each class' likelihood for a given sample, the Multinomial Naive Bayes Classifier will determine the tag with the greatest predicted probability. In this analysis, the tag corresponds to the gene family, and the input text consists of the hexamer sequences."
   ]
  },
  {
   "cell_type": "code",
   "execution_count": 18,
   "id": "917951f2",
   "metadata": {},
   "outputs": [],
   "source": [
    "# define get_metrics function to retrieve accuracy, precision, recall, and F1 values from classifier\n",
    "def get_metrics(y_test, y_predicted):\n",
    "    accuracy = accuracy_score(y_test, y_predicted)\n",
    "    precision = precision_score(y_test, y_predicted, average = 'weighted')\n",
    "    recall = recall_score(y_test, y_predicted, average = 'weighted')\n",
    "    f1 = f1_score(y_test, y_predicted, average = 'weighted')\n",
    "    return accuracy, precision, recall, f1"
   ]
  },
  {
   "cell_type": "markdown",
   "id": "2c136e21",
   "metadata": {},
   "source": [
    "#### Human Multinomial Naive Bayes Classifier"
   ]
  },
  {
   "cell_type": "code",
   "execution_count": 19,
   "id": "caea4ad3",
   "metadata": {},
   "outputs": [],
   "source": [
    "from sklearn.model_selection import train_test_split\n",
    "\n",
    "# 80-20 train-test split\n",
    "x_human_train, x_human_test, y_human_train, y_human_test = train_test_split(x_human, human_class_labels, test_size = 0.20, random_state = 42)\n",
    "\n",
    "# apply Multinomial Naive Bayes classifier on datasets with alpha = 0.1\n",
    "from sklearn.naive_bayes import MultinomialNB\n",
    "classifier = MultinomialNB(alpha = 0.1)\n",
    "classifier.fit(x_human_train, y_human_train)\n",
    "y_human_pred = classifier.predict(x_human_test)"
   ]
  },
  {
   "cell_type": "code",
   "execution_count": 20,
   "id": "1a63bb5f",
   "metadata": {},
   "outputs": [
    {
     "data": {
      "text/markdown": [
       "**Human Confusion Matrix & Assessment Values**\n"
      ],
      "text/plain": [
       "<IPython.core.display.Markdown object>"
      ]
     },
     "metadata": {},
     "output_type": "display_data"
    },
    {
     "name": "stdout",
     "output_type": "stream",
     "text": [
      "Expected   0    1   2    3    4   5    6\n",
      "Observed                                \n",
      "0         99    0   0    0    1   0    2\n",
      "1          0  104   0    0    0   0    2\n",
      "2          0    0  78    0    0   0    0\n",
      "3          0    0   0  124    0   0    1\n",
      "4          1    0   0    0  143   0    5\n",
      "5          0    0   0    0    0  51    0\n",
      "6          1    0   0    1    0   0  263\n",
      "\n",
      "Accuracy = 0.984 \n",
      "Precision = 0.984 \n",
      "Recall = 0.984 \n",
      "F1 = 0.984\n"
     ]
    }
   ],
   "source": [
    "from sklearn.metrics import accuracy_score, f1_score, precision_score, recall_score\n",
    "\n",
    "# construct confusion matrix\n",
    "printmd(\"**Human Confusion Matrix & Assessment Values**\\n\")\n",
    "print(pd.crosstab(pd.Series(y_human_test, name = 'Observed'), pd.Series(y_human_pred, name = 'Expected')))\n",
    "\n",
    "# output accuracy, precision, recall, and F1 values\n",
    "accuracy, precision, recall, f1 = get_metrics(y_human_test, y_human_pred)\n",
    "print(\"\\nAccuracy = %.3f \\nPrecision = %.3f \\nRecall = %.3f \\nF1 = %.3f\" % (accuracy, precision, recall, f1))"
   ]
  },
  {
   "cell_type": "markdown",
   "id": "c8df2b27",
   "metadata": {},
   "source": [
    "#### Visualizing the Human Confusion Matrix"
   ]
  },
  {
   "cell_type": "code",
   "execution_count": 21,
   "id": "f43921c2",
   "metadata": {},
   "outputs": [
    {
     "data": {
      "image/png": "[encoded data removed]",
      "text/plain": [
       "<Figure size 432x288 with 1 Axes>"
      ]
     },
     "metadata": {},
     "output_type": "display_data"
    }
   ],
   "source": [
    "from sklearn.metrics import confusion_matrix\n",
    "import seaborn as sns; sns.set()\n",
    "\n",
    "mat = confusion_matrix(y_human_pred, y_human_test)\n",
    "sns.heatmap(mat.T, square = True, annot = True, fmt = 'd', cbar = False, cmap = 'Blues')\n",
    "plt.xlabel('Expected')\n",
    "plt.ylabel('Predicted');"
   ]
  },
  {
   "cell_type": "markdown",
   "id": "05e05f57",
   "metadata": {},
   "source": [
    "From the output above, we can conclude that the accuracy of our Multinomial Naive Bayes Classifier on the human sequences is approximately 98.4% on the testing set. Based on our confusion matrix, we can conclude that our classifier accurately predicts the gene families present in humans based on sequences alone. However, in cases where class = 6 (transcription factor), the classifier is not always able to accurately characterize sequences that function as transcription factors."
   ]
  },
  {
   "cell_type": "markdown",
   "id": "0403a974",
   "metadata": {},
   "source": [
    "#### Chimpanzee Multinomial Naive Bayes Classifier"
   ]
  },
  {
   "cell_type": "code",
   "execution_count": 22,
   "id": "ab8f68ac",
   "metadata": {},
   "outputs": [],
   "source": [
    "from sklearn.model_selection import train_test_split\n",
    "\n",
    "# 80-20 train-test split\n",
    "x_chimp_train, x_chimp_test, y_chimp_train, y_chimp_test = train_test_split(x_chimp, chimp_class_labels, test_size = 0.20, random_state = 42)\n",
    "\n",
    "# apply Multinomial Naive Bayes classifier on datasets with alpha = 0.1\n",
    "from sklearn.naive_bayes import MultinomialNB\n",
    "classifier = MultinomialNB(alpha = 0.1)\n",
    "classifier.fit(x_chimp_train, y_chimp_train)\n",
    "y_chimp_pred = classifier.predict(x_chimp_test)"
   ]
  },
  {
   "cell_type": "code",
   "execution_count": 23,
   "id": "1e92c7c8",
   "metadata": {},
   "outputs": [
    {
     "data": {
      "text/markdown": [
       "**Chimpanzee Confusion Matrix & Assessment Values**\n"
      ],
      "text/plain": [
       "<IPython.core.display.Markdown object>"
      ]
     },
     "metadata": {},
     "output_type": "display_data"
    },
    {
     "name": "stdout",
     "output_type": "stream",
     "text": [
      "Expected   0   1   2   3   4   5    6\n",
      "Observed                             \n",
      "0         27   0   0   0   0   0    1\n",
      "1          0  38   0   0   0   0    1\n",
      "2          0   0  25   0   0   0    2\n",
      "3          0   0   0  41   0   0    2\n",
      "4          2   1   0   3  40   0    6\n",
      "5          3   0   0   0   3  19    4\n",
      "6          0   0   0   1   0   0  118\n",
      "\n",
      "Accuracy = 0.914 \n",
      "Precision = 0.920 \n",
      "Recall = 0.914 \n",
      "F1 = 0.911\n"
     ]
    }
   ],
   "source": [
    "from sklearn.metrics import accuracy_score, f1_score, precision_score, recall_score\n",
    "\n",
    "# construct confusion matrix\n",
    "printmd(\"**Chimpanzee Confusion Matrix & Assessment Values**\\n\")\n",
    "print(pd.crosstab(pd.Series(y_chimp_test, name = 'Observed'), pd.Series(y_chimp_pred, name = 'Expected')))\n",
    "\n",
    "# output accuracy, precision, recall, and F1 values\n",
    "accuracy, precision, recall, f1 = get_metrics(y_chimp_test, y_chimp_pred)\n",
    "print(\"\\nAccuracy = %.3f \\nPrecision = %.3f \\nRecall = %.3f \\nF1 = %.3f\" % (accuracy, precision, recall, f1))"
   ]
  },
  {
   "cell_type": "markdown",
   "id": "71cfa1ee",
   "metadata": {},
   "source": [
    "#### Visualizing the Chimpanzee Confusion Matrix"
   ]
  },
  {
   "cell_type": "code",
   "execution_count": 24,
   "id": "771d81d0",
   "metadata": {},
   "outputs": [
    {
     "data": {
      "image/png": "[encoded data removed]",
      "text/plain": [
       "<Figure size 432x288 with 1 Axes>"
      ]
     },
     "metadata": {},
     "output_type": "display_data"
    }
   ],
   "source": [
    "from sklearn.metrics import confusion_matrix\n",
    "import seaborn as sns; sns.set()\n",
    "\n",
    "mat = confusion_matrix(y_chimp_pred, y_chimp_test)\n",
    "sns.heatmap(mat.T, square = True, annot = True, fmt = 'd', cbar = False, cmap = 'Blues')\n",
    "plt.xlabel('Expected')\n",
    "plt.ylabel('Predicted');"
   ]
  },
  {
   "cell_type": "markdown",
   "id": "110736eb",
   "metadata": {},
   "source": [
    "From the output above, we can conclude that the accuracy of our Multinomial Naive Bayes Classifier on the chimpanzee sequences is approximately 91.4% on the testing set. Based on our confusion matrix, we can conclude that our classifier accurately predicts the gene families present in chimpanzees based on sequences alone. However, in cases where class = 6 (transcription factor), the classifier is not always able to accurately characterize sequences that function as transcription factors."
   ]
  },
  {
   "cell_type": "markdown",
   "id": "0ba2a879",
   "metadata": {},
   "source": [
    "#### Conclusion & Discussion"
   ]
  },
  {
   "cell_type": "markdown",
   "id": "3001876d",
   "metadata": {},
   "source": [
    "As a result of our analysis, we can conclude that our Multinomial Naive Bayes Classifiers for both the human and chimpanzee datasets are able to accurately predict biological function from DNA sequences alone. We did not consider the effect of outliers within the original dataset of DNA sequences, however, in order to identify outliers, it is possible to perform multiple sequence alignment or input a distance matrix, and examine the average distance of each DNA sequence to the remaining sequences in the dataset. Average distances would be found using the interquartile range of the distribution. If certain DNA sequences do not fall within the determined range, they would be considered outliers, and ideally would be removed from the dataset prior to performing machine learning. Although we did not identify or remove outliers from the original dataset, both the human and chimpanzee classifiers appear to maintain a fairly high accuracy on testing sets.\n",
    "\n",
    "With regards to specific insight this analysis provides, we can conclude that the majority of DNA sequences across human and chimpanzee genomes are highly conserved, which is due to their evolutionary homology and shared common ancestor. Therefore, it is expected that both species share a similar ratio of DNA sequences that correspond to the seven gene classes of interest in this analysis.\n",
    "\n",
    "Applying the results from this analysis towards other studies would allow us to assess sequence homology across the human and chimpanzee genomes from the time of descent from their common ancestor. Doing so would allow us to better understand how evolution has played a role in altering gene function and regulation in both species. In the future, more extensive analysis on additional gene families, or on other regions of the genome, such as non-coding regions or mitochondrial DNA, could provide greater insight into the evolutionary changes that have shaped the divergence of humans and chimpanzees over time. In addition, we could also make evolutionary comparisons between a broader range of species in order to further verify that the Multinomial Naive Bayes Classifier is best suited for datasets consisting of DNA sequences."
   ]
  }
 ],
 "metadata": {
  "kernelspec": {
   "display_name": "Python 3",
   "language": "python",
   "name": "python3"
  },
  "language_info": {
   "codemirror_mode": {
    "name": "ipython",
    "version": 3
   },
   "file_extension": ".py",
   "mimetype": "text/x-python",
   "name": "python",
   "nbconvert_exporter": "python",
   "pygments_lexer": "ipython3",
   "version": "3.8.8"
  }
 },
 "nbformat": 4,
 "nbformat_minor": 5
}
